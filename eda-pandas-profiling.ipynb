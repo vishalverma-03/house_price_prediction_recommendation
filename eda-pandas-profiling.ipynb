{
 "cells": [
  {
   "cell_type": "code",
   "execution_count": 3,
   "id": "6e030f5c",
   "metadata": {},
   "outputs": [
    {
     "data": {
      "application/vnd.jupyter.widget-view+json": {
       "model_id": "8f1bd6f75329437b8e38ee807bfab5c1",
       "version_major": 2,
       "version_minor": 0
      },
      "text/plain": [
       "Summarize dataset:   0%|          | 0/5 [00:00<?, ?it/s]"
      ]
     },
     "metadata": {},
     "output_type": "display_data"
    },
    {
     "name": "stderr",
     "output_type": "stream",
     "text": [
      "\n",
      "  0%|                                                                                           | 0/23 [00:00<?, ?it/s]\u001b[A\n",
      "  4%|███▌                                                                               | 1/23 [00:00<00:13,  1.60it/s]\u001b[A\n",
      "  9%|███████▏                                                                           | 2/23 [00:00<00:07,  2.72it/s]\u001b[A\n",
      " 48%|███████████████████████████████████████▏                                          | 11/23 [00:01<00:01,  8.98it/s]\u001b[A\n",
      "100%|██████████████████████████████████████████████████████████████████████████████████| 23/23 [00:01<00:00, 13.34it/s]\u001b[A\n",
      "C:\\Users\\vverm\\AppData\\Roaming\\Python\\Python312\\site-packages\\ydata_profiling\\model\\correlations.py:87: UserWarning: There was an attempt to calculate the auto correlation, but this failed.\n",
      "To hide this warning, disable the calculation\n",
      "(using `df.profile_report(correlations={\"auto\": {\"calculate\": False}})`\n",
      "If this is problematic for your use case, please report this as an issue:\n",
      "https://github.com/ydataai/ydata-profiling/issues\n",
      "(include the error message: 'putmask: first argument must be an array')\n",
      "  warnings.warn(\n"
     ]
    },
    {
     "data": {
      "application/vnd.jupyter.widget-view+json": {
       "model_id": "81be465010b94b97b11584e58269c531",
       "version_major": 2,
       "version_minor": 0
      },
      "text/plain": [
       "Generate report structure:   0%|          | 0/1 [00:00<?, ?it/s]"
      ]
     },
     "metadata": {},
     "output_type": "display_data"
    },
    {
     "data": {
      "application/vnd.jupyter.widget-view+json": {
       "model_id": "cb221d249f1b4ece9f4f6b61a4b58945",
       "version_major": 2,
       "version_minor": 0
      },
      "text/plain": [
       "Render HTML:   0%|          | 0/1 [00:00<?, ?it/s]"
      ]
     },
     "metadata": {},
     "output_type": "display_data"
    },
    {
     "data": {
      "application/vnd.jupyter.widget-view+json": {
       "model_id": "b88a1f25409546a493f064afb8bcd85c",
       "version_major": 2,
       "version_minor": 0
      },
      "text/plain": [
       "Export report to file:   0%|          | 0/1 [00:00<?, ?it/s]"
      ]
     },
     "metadata": {},
     "output_type": "display_data"
    }
   ],
   "source": [
    "import pandas as pd\n",
    "from pandas_profiling import ProfileReport\n",
    "\n",
    "# Load your dataset\n",
    "df = pd.read_csv('gurgaon_properties_cleaned_v2.csv').drop_duplicates()\n",
    "\n",
    "# Create the ProfileReport object\n",
    "profile = ProfileReport(df, title='Pandas Profiling Report', explorative=True)\n",
    "\n",
    "# Generate the report\n",
    "profile.to_file(\"output_report.html\")\n"
   ]
  },
  {
   "cell_type": "code",
   "execution_count": 2,
   "id": "bd076212",
   "metadata": {},
   "outputs": [
    {
     "name": "stdout",
     "output_type": "stream",
     "text": [
      "Defaulting to user installation because normal site-packages is not writeable\n",
      "Collecting pandas-profiling\n",
      "  Downloading pandas_profiling-3.2.0-py2.py3-none-any.whl.metadata (21 kB)\n",
      "Collecting joblib~=1.1.0 (from pandas-profiling)\n",
      "  Downloading joblib-1.1.1-py2.py3-none-any.whl.metadata (5.2 kB)\n",
      "Requirement already satisfied: scipy>=1.4.1 in c:\\users\\vverm\\appdata\\roaming\\python\\python312\\site-packages (from pandas-profiling) (1.11.4)\n",
      "Requirement already satisfied: pandas!=1.0.0,!=1.0.1,!=1.0.2,!=1.1.0,>=0.25.3 in c:\\users\\vverm\\appdata\\roaming\\python\\python312\\site-packages (from pandas-profiling) (2.1.4)\n",
      "Requirement already satisfied: matplotlib>=3.2.0 in c:\\users\\vverm\\appdata\\roaming\\python\\python312\\site-packages (from pandas-profiling) (3.8.2)\n",
      "Requirement already satisfied: pydantic>=1.8.1 in c:\\users\\vverm\\appdata\\roaming\\python\\python312\\site-packages (from pandas-profiling) (2.11.3)\n",
      "Requirement already satisfied: PyYAML>=5.0.0 in c:\\users\\vverm\\appdata\\roaming\\python\\python312\\site-packages (from pandas-profiling) (6.0.1)\n",
      "Requirement already satisfied: jinja2>=2.11.1 in c:\\users\\vverm\\appdata\\roaming\\python\\python312\\site-packages (from pandas-profiling) (3.1.2)\n",
      "Requirement already satisfied: markupsafe~=2.1.1 in c:\\users\\vverm\\appdata\\roaming\\python\\python312\\site-packages (from pandas-profiling) (2.1.3)\n",
      "Collecting visions==0.7.4 (from visions[type_image_path]==0.7.4->pandas-profiling)\n",
      "  Downloading visions-0.7.4-py3-none-any.whl.metadata (5.9 kB)\n",
      "Requirement already satisfied: numpy>=1.16.0 in c:\\users\\vverm\\appdata\\roaming\\python\\python312\\site-packages (from pandas-profiling) (1.26.2)\n",
      "Requirement already satisfied: htmlmin>=0.1.12 in c:\\users\\vverm\\appdata\\roaming\\python\\python312\\site-packages (from pandas-profiling) (0.1.12)\n",
      "Collecting missingno>=0.4.2 (from pandas-profiling)\n",
      "  Downloading missingno-0.5.2-py3-none-any.whl.metadata (639 bytes)\n",
      "Requirement already satisfied: phik>=0.11.1 in c:\\users\\vverm\\appdata\\roaming\\python\\python312\\site-packages (from pandas-profiling) (0.12.4)\n",
      "Collecting tangled-up-in-unicode==0.2.0 (from pandas-profiling)\n",
      "  Downloading tangled_up_in_unicode-0.2.0-py3-none-any.whl.metadata (4.8 kB)\n",
      "Requirement already satisfied: requests>=2.24.0 in c:\\users\\vverm\\appdata\\roaming\\python\\python312\\site-packages (from pandas-profiling) (2.31.0)\n",
      "Requirement already satisfied: tqdm>=4.48.2 in c:\\users\\vverm\\appdata\\roaming\\python\\python312\\site-packages (from pandas-profiling) (4.67.1)\n",
      "Requirement already satisfied: seaborn>=0.10.1 in c:\\users\\vverm\\appdata\\roaming\\python\\python312\\site-packages (from pandas-profiling) (0.13.2)\n",
      "Requirement already satisfied: multimethod>=1.4 in c:\\users\\vverm\\appdata\\roaming\\python\\python312\\site-packages (from pandas-profiling) (1.12)\n",
      "Requirement already satisfied: attrs>=19.3.0 in c:\\users\\vverm\\appdata\\roaming\\python\\python312\\site-packages (from visions==0.7.4->visions[type_image_path]==0.7.4->pandas-profiling) (23.1.0)\n",
      "Requirement already satisfied: networkx>=2.4 in c:\\users\\vverm\\appdata\\roaming\\python\\python312\\site-packages (from visions==0.7.4->visions[type_image_path]==0.7.4->pandas-profiling) (3.4.2)\n",
      "Requirement already satisfied: imagehash in c:\\users\\vverm\\appdata\\roaming\\python\\python312\\site-packages (from visions[type_image_path]==0.7.4->pandas-profiling) (4.3.1)\n",
      "Requirement already satisfied: Pillow in c:\\users\\vverm\\appdata\\roaming\\python\\python312\\site-packages (from visions[type_image_path]==0.7.4->pandas-profiling) (10.1.0)\n",
      "Requirement already satisfied: contourpy>=1.0.1 in c:\\users\\vverm\\appdata\\roaming\\python\\python312\\site-packages (from matplotlib>=3.2.0->pandas-profiling) (1.2.0)\n",
      "Requirement already satisfied: cycler>=0.10 in c:\\users\\vverm\\appdata\\roaming\\python\\python312\\site-packages (from matplotlib>=3.2.0->pandas-profiling) (0.12.1)\n",
      "Requirement already satisfied: fonttools>=4.22.0 in c:\\users\\vverm\\appdata\\roaming\\python\\python312\\site-packages (from matplotlib>=3.2.0->pandas-profiling) (4.46.0)\n",
      "Requirement already satisfied: kiwisolver>=1.3.1 in c:\\users\\vverm\\appdata\\roaming\\python\\python312\\site-packages (from matplotlib>=3.2.0->pandas-profiling) (1.4.5)\n",
      "Requirement already satisfied: packaging>=20.0 in c:\\users\\vverm\\appdata\\roaming\\python\\python312\\site-packages (from matplotlib>=3.2.0->pandas-profiling) (23.2)\n",
      "Requirement already satisfied: pyparsing>=2.3.1 in c:\\users\\vverm\\appdata\\roaming\\python\\python312\\site-packages (from matplotlib>=3.2.0->pandas-profiling) (3.1.1)\n",
      "Requirement already satisfied: python-dateutil>=2.7 in c:\\users\\vverm\\appdata\\roaming\\python\\python312\\site-packages (from matplotlib>=3.2.0->pandas-profiling) (2.8.2)\n",
      "Requirement already satisfied: pytz>=2020.1 in c:\\users\\vverm\\appdata\\roaming\\python\\python312\\site-packages (from pandas!=1.0.0,!=1.0.1,!=1.0.2,!=1.1.0,>=0.25.3->pandas-profiling) (2023.3.post1)\n",
      "Requirement already satisfied: tzdata>=2022.1 in c:\\users\\vverm\\appdata\\roaming\\python\\python312\\site-packages (from pandas!=1.0.0,!=1.0.1,!=1.0.2,!=1.1.0,>=0.25.3->pandas-profiling) (2023.3)\n",
      "Requirement already satisfied: annotated-types>=0.6.0 in c:\\users\\vverm\\appdata\\roaming\\python\\python312\\site-packages (from pydantic>=1.8.1->pandas-profiling) (0.7.0)\n",
      "Requirement already satisfied: pydantic-core==2.33.1 in c:\\users\\vverm\\appdata\\roaming\\python\\python312\\site-packages (from pydantic>=1.8.1->pandas-profiling) (2.33.1)\n",
      "Requirement already satisfied: typing-extensions>=4.12.2 in c:\\users\\vverm\\appdata\\roaming\\python\\python312\\site-packages (from pydantic>=1.8.1->pandas-profiling) (4.13.2)\n",
      "Requirement already satisfied: typing-inspection>=0.4.0 in c:\\users\\vverm\\appdata\\roaming\\python\\python312\\site-packages (from pydantic>=1.8.1->pandas-profiling) (0.4.0)\n",
      "Requirement already satisfied: charset-normalizer<4,>=2 in c:\\users\\vverm\\appdata\\roaming\\python\\python312\\site-packages (from requests>=2.24.0->pandas-profiling) (3.3.2)\n",
      "Requirement already satisfied: idna<4,>=2.5 in c:\\users\\vverm\\appdata\\roaming\\python\\python312\\site-packages (from requests>=2.24.0->pandas-profiling) (3.6)\n",
      "Requirement already satisfied: urllib3<3,>=1.21.1 in c:\\users\\vverm\\appdata\\roaming\\python\\python312\\site-packages (from requests>=2.24.0->pandas-profiling) (2.1.0)\n",
      "Requirement already satisfied: certifi>=2017.4.17 in c:\\users\\vverm\\appdata\\roaming\\python\\python312\\site-packages (from requests>=2.24.0->pandas-profiling) (2023.11.17)\n",
      "Requirement already satisfied: colorama in c:\\users\\vverm\\appdata\\roaming\\python\\python312\\site-packages (from tqdm>=4.48.2->pandas-profiling) (0.4.6)\n",
      "Requirement already satisfied: six>=1.5 in c:\\users\\vverm\\appdata\\roaming\\python\\python312\\site-packages (from python-dateutil>=2.7->matplotlib>=3.2.0->pandas-profiling) (1.16.0)\n",
      "Requirement already satisfied: PyWavelets in c:\\users\\vverm\\appdata\\roaming\\python\\python312\\site-packages (from imagehash->visions[type_image_path]==0.7.4->pandas-profiling) (1.8.0)\n",
      "Downloading pandas_profiling-3.2.0-py2.py3-none-any.whl (262 kB)\n",
      "Downloading tangled_up_in_unicode-0.2.0-py3-none-any.whl (4.7 MB)\n",
      "   ---------------------------------------- 0.0/4.7 MB ? eta -:--:--\n",
      "   ---- ----------------------------------- 0.5/4.7 MB 4.2 MB/s eta 0:00:01\n",
      "   -------- ------------------------------- 1.0/4.7 MB 2.3 MB/s eta 0:00:02\n",
      "   ------------- -------------------------- 1.6/4.7 MB 2.8 MB/s eta 0:00:02\n",
      "   ----------------- ---------------------- 2.1/4.7 MB 2.4 MB/s eta 0:00:02\n",
      "   ------------------------ --------------- 2.9/4.7 MB 2.7 MB/s eta 0:00:01\n",
      "   ------------------------------- -------- 3.7/4.7 MB 3.0 MB/s eta 0:00:01\n",
      "   ----------------------------------- ---- 4.2/4.7 MB 2.8 MB/s eta 0:00:01\n",
      "   ---------------------------------------- 4.7/4.7 MB 2.7 MB/s eta 0:00:00\n",
      "Downloading visions-0.7.4-py3-none-any.whl (102 kB)\n",
      "Downloading joblib-1.1.1-py2.py3-none-any.whl (309 kB)\n",
      "Downloading missingno-0.5.2-py3-none-any.whl (8.7 kB)\n",
      "Installing collected packages: tangled-up-in-unicode, joblib, visions, missingno, pandas-profiling\n",
      "  Attempting uninstall: joblib\n",
      "    Found existing installation: joblib 1.3.2\n",
      "    Uninstalling joblib-1.3.2:\n",
      "      Successfully uninstalled joblib-1.3.2\n",
      "  Attempting uninstall: visions\n",
      "    Found existing installation: visions 0.8.1\n",
      "    Uninstalling visions-0.8.1:\n",
      "      Successfully uninstalled visions-0.8.1\n",
      "Successfully installed joblib-1.1.1 missingno-0.5.2 pandas-profiling-3.2.0 tangled-up-in-unicode-0.2.0 visions-0.7.4\n"
     ]
    },
    {
     "name": "stderr",
     "output_type": "stream",
     "text": [
      "ERROR: pip's dependency resolver does not currently take into account all the packages that are installed. This behaviour is the source of the following dependency conflicts.\n",
      "ydata-profiling 4.16.1 requires visions[type_image_path]<0.8.2,>=0.7.5, but you have visions 0.7.4 which is incompatible.\n",
      "\n",
      "[notice] A new release of pip is available: 24.2 -> 25.1.1\n",
      "[notice] To update, run: python.exe -m pip install --upgrade pip\n"
     ]
    }
   ],
   "source": [
    "!pip install pandas-profiling\n"
   ]
  },
  {
   "cell_type": "code",
   "execution_count": null,
   "id": "88bedb41",
   "metadata": {},
   "outputs": [],
   "source": []
  }
 ],
 "metadata": {
  "kernelspec": {
   "display_name": "Python 3 (ipykernel)",
   "language": "python",
   "name": "python3"
  },
  "language_info": {
   "codemirror_mode": {
    "name": "ipython",
    "version": 3
   },
   "file_extension": ".py",
   "mimetype": "text/x-python",
   "name": "python",
   "nbconvert_exporter": "python",
   "pygments_lexer": "ipython3",
   "version": "3.12.1"
  }
 },
 "nbformat": 4,
 "nbformat_minor": 5
}
